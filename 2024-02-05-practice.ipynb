{
 "cells": [
  {
   "cell_type": "code",
   "execution_count": 1,
   "id": "d2b8b122",
   "metadata": {},
   "outputs": [],
   "source": [
    "chicago_murders = 762\n",
    "los_angeles_murders = 294\n",
    "new_york_city_murders = 334\n",
    "san_jose = 47\n",
    "chicago_population = 2_705_000\n",
    "los_angeles_population = 3_976_000\n",
    "new_york_city_population = 8_538_000\n",
    "san_jose_population = 1_025_000"
   ]
  },
  {
   "cell_type": "code",
   "execution_count": 2,
   "id": "605411b2",
   "metadata": {},
   "outputs": [
    {
     "data": {
      "text/plain": [
       "28.170055452865068"
      ]
     },
     "execution_count": 2,
     "metadata": {},
     "output_type": "execute_result"
    }
   ],
   "source": [
    "(chicago_murders/chicago_population) * 100_000"
   ]
  },
  {
   "cell_type": "code",
   "execution_count": 4,
   "id": "b46e5b51",
   "metadata": {},
   "outputs": [
    {
     "data": {
      "text/plain": [
       "7.394366197183098"
      ]
     },
     "execution_count": 4,
     "metadata": {},
     "output_type": "execute_result"
    }
   ],
   "source": [
    "(los_angeles_murders/los_angeles_population) * 100_000"
   ]
  },
  {
   "cell_type": "code",
   "execution_count": 5,
   "id": "2d40b1c8",
   "metadata": {},
   "outputs": [
    {
     "data": {
      "text/plain": [
       "3.911923167018037"
      ]
     },
     "execution_count": 5,
     "metadata": {},
     "output_type": "execute_result"
    }
   ],
   "source": [
    "(new_york_city_murders/new_york_city_population) * 100_000"
   ]
  },
  {
   "cell_type": "code",
   "execution_count": 6,
   "id": "38aec8a2",
   "metadata": {},
   "outputs": [
    {
     "data": {
      "text/plain": [
       "4.585365853658536"
      ]
     },
     "execution_count": 6,
     "metadata": {},
     "output_type": "execute_result"
    }
   ],
   "source": [
    "(san_jose/san_jose_population) * 100_000"
   ]
  },
  {
   "cell_type": "code",
   "execution_count": 7,
   "id": "ee37eb7c",
   "metadata": {},
   "outputs": [],
   "source": [
    "chicago_rate = (chicago_murders/chicago_population) * 100_000\n"
   ]
  },
  {
   "cell_type": "code",
   "execution_count": 8,
   "id": "1c59c4a6",
   "metadata": {},
   "outputs": [
    {
     "data": {
      "text/plain": [
       "28.170055452865068"
      ]
     },
     "execution_count": 8,
     "metadata": {},
     "output_type": "execute_result"
    }
   ],
   "source": [
    "chicago_rate\n"
   ]
  },
  {
   "cell_type": "code",
   "execution_count": 9,
   "id": "592196f9",
   "metadata": {},
   "outputs": [],
   "source": [
    "los_angeles_rate = (los_angeles_murders/los_angeles_population) * 100_000"
   ]
  },
  {
   "cell_type": "code",
   "execution_count": 10,
   "id": "15da9b4a",
   "metadata": {},
   "outputs": [
    {
     "data": {
      "text/plain": [
       "7.394366197183098"
      ]
     },
     "execution_count": 10,
     "metadata": {},
     "output_type": "execute_result"
    }
   ],
   "source": [
    "los_angeles_rate\n"
   ]
  },
  {
   "cell_type": "code",
   "execution_count": 11,
   "id": "46e0f52d",
   "metadata": {},
   "outputs": [],
   "source": [
    "new_york_city_rate = (new_york_city_murders/new_york_city_population) * 100_000"
   ]
  },
  {
   "cell_type": "code",
   "execution_count": 12,
   "id": "9447cdb5",
   "metadata": {},
   "outputs": [
    {
     "data": {
      "text/plain": [
       "3.911923167018037"
      ]
     },
     "execution_count": 12,
     "metadata": {},
     "output_type": "execute_result"
    }
   ],
   "source": [
    "new_york_city_rate"
   ]
  },
  {
   "cell_type": "code",
   "execution_count": 13,
   "id": "275bc182",
   "metadata": {},
   "outputs": [],
   "source": [
    "san_jose_rate = (san_jose/san_jose_population) * 100_000"
   ]
  },
  {
   "cell_type": "code",
   "execution_count": 14,
   "id": "97d82f49",
   "metadata": {},
   "outputs": [
    {
     "data": {
      "text/plain": [
       "4.585365853658536"
      ]
     },
     "execution_count": 14,
     "metadata": {},
     "output_type": "execute_result"
    }
   ],
   "source": [
    "san_jose_rate"
   ]
  },
  {
   "cell_type": "code",
   "execution_count": 18,
   "id": "6ce17dd3",
   "metadata": {},
   "outputs": [
    {
     "name": "stdout",
     "output_type": "stream",
     "text": [
      "Chicago has a murder rate of 28.170055452865068 per 100k while New York City has a rate of 3.911923167018037 per 100k\n"
     ]
    }
   ],
   "source": [
    "## print \n",
    "print(f\"Chicago has a murder rate of \\\n",
    "{chicago_rate} per 100k while New York City has a rate of \\\n",
    "{new_york_city_rate} per 100k\")\n"
   ]
  },
  {
   "cell_type": "code",
   "execution_count": null,
   "id": "eb598bb5",
   "metadata": {},
   "outputs": [],
   "source": []
  }
 ],
 "metadata": {
  "kernelspec": {
   "display_name": "Python 3 (ipykernel)",
   "language": "python",
   "name": "python3"
  },
  "language_info": {
   "codemirror_mode": {
    "name": "ipython",
    "version": 3
   },
   "file_extension": ".py",
   "mimetype": "text/x-python",
   "name": "python",
   "nbconvert_exporter": "python",
   "pygments_lexer": "ipython3",
   "version": "3.11.5"
  }
 },
 "nbformat": 4,
 "nbformat_minor": 5
}
